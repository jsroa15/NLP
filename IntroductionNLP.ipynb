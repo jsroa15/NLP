{
  "nbformat": 4,
  "nbformat_minor": 0,
  "metadata": {
    "colab": {
      "name": "IntroductionNLP.ipynb",
      "provenance": [],
      "authorship_tag": "ABX9TyMN+pGP6m+DMrDsD1mRdAm/",
      "include_colab_link": true
    },
    "kernelspec": {
      "name": "python3",
      "display_name": "Python 3"
    },
    "language_info": {
      "name": "python"
    }
  },
  "cells": [
    {
      "cell_type": "markdown",
      "metadata": {
        "id": "view-in-github",
        "colab_type": "text"
      },
      "source": [
        "<a href=\"https://colab.research.google.com/github/jsroa15/NLP/blob/main/IntroductionNLP.ipynb\" target=\"_parent\"><img src=\"https://colab.research.google.com/assets/colab-badge.svg\" alt=\"Open In Colab\"/></a>"
      ]
    },
    {
      "cell_type": "code",
      "metadata": {
        "id": "Q1fNoHum3dF2"
      },
      "source": [
        "# Write a pattern to match sentence endings: sentence_endings\n",
        "sentence_endings = r\"[.?!]\"\n",
        "\n",
        "# Split my_string on sentence endings and print the result\n",
        "print(re.split(sentence_endings, my_string))\n",
        "\n",
        "# Find all capitalized words in my_string and print the result\n",
        "capitalized_words = r\"[A-Z]\\w+\"\n",
        "print(re.findall(capitalized_words, my_string))\n",
        "\n",
        "# Split my_string on spaces and print the result\n",
        "spaces = r\"\\s+\"\n",
        "print(re.split(spaces, my_string))\n",
        "\n",
        "# Find all digits in my_string and print the result\n",
        "digits = r\"\\d+\"\n",
        "print(re.findall(digits, my_string))"
      ],
      "execution_count": null,
      "outputs": []
    },
    {
      "cell_type": "code",
      "metadata": {
        "id": "7CRKTITo9CTW"
      },
      "source": [
        "# Import necessary modules\n",
        "from nltk.tokenize import sent_tokenize\n",
        "from nltk.tokenize import word_tokenize\n",
        "\n",
        "# Split scene_one into sentences: sentences\n",
        "sentences = sent_tokenize(scene_one)\n",
        "\n",
        "# Use word_tokenize to tokenize the fourth sentence: tokenized_sent\n",
        "tokenized_sent = word_tokenize(sentences[3])\n",
        "\n",
        "# Make a set of unique tokens in the entire scene: unique_tokens\n",
        "unique_tokens = set(word_tokenize(scene_one))\n",
        "\n",
        "# Print the unique tokens result\n",
        "print(unique_tokens)"
      ],
      "execution_count": null,
      "outputs": []
    },
    {
      "cell_type": "code",
      "metadata": {
        "id": "FpnfvnNhU40Y"
      },
      "source": [
        "# Search for the first occurrence of \"coconuts\" in scene_one: match\n",
        "match = re.search(\"coconuts\", scene_one)\n",
        "\n",
        "# Print the start and end indexes of match\n",
        "print(match.start(), match.end())\n",
        "\n",
        "# Write a regular expression to search for anything in square brackets: pattern1\n",
        "pattern1 = r\"\\[.*\\]\"\n",
        "\n",
        "# Use re.search to find the first text in square brackets\n",
        "print(re.search(pattern1, scene_one))\n",
        "\n",
        "# Find the script notation at the beginning of the fourth sentence and print it\n",
        "pattern2 = r\"[\\w]+:\"\n",
        "print(re.match(pattern2, sentences[3]))"
      ],
      "execution_count": null,
      "outputs": []
    },
    {
      "cell_type": "code",
      "metadata": {
        "id": "t5yfrGYtW1VG"
      },
      "source": [
        "my_string = \"SOLDIER #1: Found them? In Mercea? The coconut's tropical!\"\n",
        "\n",
        "r\"(\\w+|#\\d|\\?|!)\""
      ],
      "execution_count": null,
      "outputs": []
    },
    {
      "cell_type": "code",
      "metadata": {
        "id": "Ic3LTVERcAA_"
      },
      "source": [
        "# Import the necessary modules\n",
        "from nltk.tokenize import regexp_tokenize\n",
        "from nltk.tokenize import TweetTokenizer\n",
        "# Define a regex pattern to find hashtags: pattern1\n",
        "pattern1 = r\"#\\w+\"\n",
        "# Use the pattern on the first tweet in the tweets list\n",
        "hashtags = regexp_tokenize(tweets[0], pattern1)\n",
        "print(hashtags)\n",
        "\n",
        "\n",
        "['#nlp', '#python']\n",
        "\n",
        "\n",
        "# Import the necessary modules\n",
        "from nltk.tokenize import regexp_tokenize\n",
        "from nltk.tokenize import TweetTokenizer\n",
        "# Write a pattern that matches both mentions (@) and hashtags\n",
        "pattern2 = r\"([@#]\\w+)\"\n",
        "# Use the pattern on the last tweet in the tweets list\n",
        "mentions_hashtags = regexp_tokenize(tweets[2], pattern2)\n",
        "print(mentions_hashtags)\n",
        "\n",
        "['@datacamp', '#nlp', '#python']\n",
        "\n",
        "\n",
        "# Import the necessary modules\n",
        "from nltk.tokenize import regexp_tokenize\n",
        "from nltk.tokenize import TweetTokenizer\n",
        "# Use the TweetTokenizer to tokenize all tweets into one list\n",
        "tknzr = TweetTokenizer()\n",
        "all_tokens = [tknzr.tokenize(t) for t in tweets]\n",
        "print(all_tokens)\n",
        "\n",
        "[['This', 'is', 'the', 'best', '#nlp', 'exercise', 'ive', 'found', 'online', '!', '#python'], ['#NLP', 'is', 'super', 'fun', '!', '<3', '#learning'], ['Thanks', '@datacamp', ':)', '#nlp', '#python']]\n"
      ],
      "execution_count": null,
      "outputs": []
    },
    {
      "cell_type": "code",
      "metadata": {
        "id": "hRieWbsvVRWP"
      },
      "source": [
        "# Tokenize and print all words in german_text\n",
        "all_words = word_tokenize(german_text)\n",
        "print(all_words)\n",
        "\n",
        "# Tokenize and print only capital words\n",
        "capital_words = r\"[A-Z|Ü]\\w+\"\n",
        "print(regexp_tokenize(german_text, capital_words))\n",
        "\n",
        "# Tokenize and print only emoji\n",
        "emoji = \"['\\U0001F300-\\U0001F5FF'|'\\U0001F600-\\U0001F64F'|'\\U0001F680-\\U0001F6FF'|'\\u2600-\\u26FF\\u2700-\\u27BF']\"\n",
        "print(regexp_tokenize(german_text, emoji))"
      ],
      "execution_count": null,
      "outputs": []
    },
    {
      "cell_type": "code",
      "metadata": {
        "id": "O8QayGnVZPmz"
      },
      "source": [
        "# Split the script into lines: lines\n",
        "lines = holy_grail.split('\\n')\n",
        "lines\n",
        "# Replace all script lines for speaker\n",
        "pattern = \"[A-Z]{2,}(\\s)?(#\\d)?([A-Z]{2,})?:\"\n",
        "lines = [re.sub(pattern, '', l) for l in lines]\n",
        "lines\n",
        "# Tokenize each line: tokenized_lines\n",
        "tokenized_lines = [regexp_tokenize(s,\"\\w+\") for s in lines]\n",
        "\n",
        "# Make a frequency list of lengths: line_num_words\n",
        "line_num_words = [len(t_line) for t_line in tokenized_lines]\n",
        "\n",
        "# Plot a histogram of the line lengths\n",
        "plt.hist(line_num_words)\n",
        "\n",
        "# Show the plot\n",
        "plt.show()"
      ],
      "execution_count": null,
      "outputs": []
    },
    {
      "cell_type": "markdown",
      "metadata": {
        "id": "hI3khVr4ZQ75"
      },
      "source": [
        "![image.png](data:image/png;base64,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)"
      ]
    },
    {
      "cell_type": "code",
      "metadata": {
        "id": "F_G2_8LcZWpv"
      },
      "source": [
        ""
      ],
      "execution_count": null,
      "outputs": []
    }
  ]
}